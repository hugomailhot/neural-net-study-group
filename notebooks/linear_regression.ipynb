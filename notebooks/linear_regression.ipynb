{
 "cells": [
  {
   "cell_type": "code",
   "execution_count": 16,
   "metadata": {
    "collapsed": false
   },
   "outputs": [],
   "source": [
    "import tensorflow as tf\n",
    "import pickle\n",
    "import matplotlib.pyplot as plt\n",
    "import numpy as np"
   ]
  },
  {
   "cell_type": "markdown",
   "metadata": {},
   "source": [
    "## The goal\n",
    "\n",
    "Fitting a line that best approximate a set of points in 2 dimensions."
   ]
  },
  {
   "cell_type": "markdown",
   "metadata": {},
   "source": [
    "## The dataset\n",
    "\n",
    "We are going to use the _scatter.pickle_ dataset in the datasets folder. Make sure to use Python 3 to load this one, as I used a pickling protocol specific to Python 3."
   ]
  },
  {
   "cell_type": "code",
   "execution_count": 18,
   "metadata": {
    "collapsed": true
   },
   "outputs": [],
   "source": [
    "with open('../datasets/scatter.pickle', 'rb') as f:\n",
    "    data = pickle.load(f)\n",
    "    x_vals = [x for x in data[0]]\n",
    "    y_vals = [x for x in data[1]]"
   ]
  },
  {
   "cell_type": "code",
   "execution_count": 20,
   "metadata": {
    "collapsed": false
   },
   "outputs": [
    {
     "data": {
      "image/png": "[encoded data removed]",
      "text/plain": [
       "<matplotlib.figure.Figure at 0x7fd380949048>"
      ]
     },
     "metadata": {},
     "output_type": "display_data"
    }
   ],
   "source": [
    "plt.scatter(x_vals, y_vals)\n",
    "plt.show()"
   ]
  },
  {
   "cell_type": "code",
   "execution_count": 21,
   "metadata": {
    "collapsed": false
   },
   "outputs": [
    {
     "data": {
      "text/plain": [
       "1000"
      ]
     },
     "execution_count": 21,
     "metadata": {},
     "output_type": "execute_result"
    }
   ],
   "source": [
    "len(X)"
   ]
  },
  {
   "cell_type": "markdown",
   "metadata": {},
   "source": [
    "## Defining the computational graph\n",
    "\n",
    "The way we work in Tensorflow is by first defining the variables and placeholders in our computational graph, and then specifying the way they interact with each other (for example, this node is added with this one, this one goes through a relu, etc)."
   ]
  },
  {
   "cell_type": "markdown",
   "metadata": {},
   "source": [
    "### Variables and placeholders\n",
    "\n",
    "Our simple linear regression model is going to be y = ax+b. So we need to define one placeholder node for each of x and y, and one variable node for each of a and b. The `init` object is used later to initialize all global variables at once, before the training starts. In our case, variables a and b will be initialized by sampling them from a normal distribution.\n",
    "\n",
    "TODO: Better explain the shape parameter"
   ]
  },
  {
   "cell_type": "code",
   "execution_count": 22,
   "metadata": {
    "collapsed": false
   },
   "outputs": [],
   "source": [
    "x_data = tf.placeholder(shape=[None, 1], dtype=tf.float32)\n",
    "y_target = tf.placeholder(shape=[None, 1], dtype=tf.float32)\n",
    "a = tf.Variable(tf.random_normal(shape=[1,1]))\n",
    "b = tf.Variable(tf.random_normal(shape=[1,1]))\n",
    "init = tf.global_variables_initializer()"
   ]
  },
  {
   "cell_type": "markdown",
   "metadata": {},
   "source": [
    "## Shape of the computational graph\n",
    "\n",
    "Here we define how each node interacts with each other. Following our y = ax+b formula, we get:"
   ]
  },
  {
   "cell_type": "code",
   "execution_count": 23,
   "metadata": {
    "collapsed": false
   },
   "outputs": [],
   "source": [
    "model_output = tf.add(tf.matmul(x_data, a), b)"
   ]
  },
  {
   "cell_type": "markdown",
   "metadata": {},
   "source": [
    "## Optimization setup\n",
    "\n",
    "### Loss function\n",
    "\n",
    "We use the mean squared error as our loss function, so we take the difference between the predicted and true values (`y_model - model_output`). This is a vectorized operation, and we obtain a vector of differences, which we reduce to a single mean using `tf.reduce_mean`.\n",
    "\n",
    "\n",
    "### Gradient descent parameters\n",
    "\n",
    "We set need a learning rate and batch size to do batch gradient descent. We then instanciate an optimizer, and call `train_step` the action of minimizing loss using that optimizer."
   ]
  },
  {
   "cell_type": "code",
   "execution_count": 39,
   "metadata": {
    "collapsed": true
   },
   "outputs": [],
   "source": [
    "loss = tf.reduce_mean(tf.square(y_target - model_output))\n",
    "learning_rate = 0.0001\n",
    "batch_size = 25\n",
    "my_opt = tf.train.GradientDescentOptimizer(learning_rate)\n",
    "train_step = my_opt.minimize(loss)"
   ]
  },
  {
   "cell_type": "markdown",
   "metadata": {},
   "source": [
    "## Training\n",
    "\n",
    "We start by creating a session and initializing the variables in the computational graph."
   ]
  },
  {
   "cell_type": "code",
   "execution_count": 40,
   "metadata": {
    "collapsed": false
   },
   "outputs": [],
   "source": [
    "sess = tf.Session()\n",
    "sess.run(init)"
   ]
  },
  {
   "cell_type": "markdown",
   "metadata": {},
   "source": [
    "Here we do 100 iterations of randomly sampling `batch_size` points in our dataset and making one gradient descent step to minimize mean squared loss over that batch. \n",
    "\n",
    "TODO: explain why we transpose\n",
    "\n",
    "We tell the `Session` to run the `train_step`, which is the gradient descent optimization step.\n",
    "\n",
    "We also keep track of our loss at every 10th iteration so we can graph it later. Note that the loss is computed over the batch of samples, and not the whole dataset."
   ]
  },
  {
   "cell_type": "code",
   "execution_count": 41,
   "metadata": {
    "collapsed": false
   },
   "outputs": [
    {
     "name": "stdout",
     "output_type": "stream",
     "text": [
      "Loss = 4944.82\n",
      "Loss = 3232.91\n",
      "Loss = 2817.39\n",
      "Loss = 1892.6\n",
      "Loss = 1421.89\n",
      "Loss = 953.763\n",
      "Loss = 906.742\n",
      "Loss = 555.379\n",
      "Loss = 499.047\n",
      "Step #10 A = [[ 0.31423771]]b = [[ 0.62987089]]\n",
      "Loss = 279.137\n",
      "Loss = 275.247\n",
      "Loss = 210.415\n",
      "Loss = 118.591\n",
      "Loss = 105.535\n",
      "Loss = 90.2751\n",
      "Loss = 87.9818\n",
      "Loss = 54.0294\n",
      "Loss = 59.5332\n",
      "Loss = 30.6121\n",
      "Step #20 A = [[ 0.83840609]]b = [[ 0.64820832]]\n",
      "Loss = 18.3051\n",
      "Loss = 26.7944\n",
      "Loss = 35.1726\n",
      "Loss = 39.2374\n",
      "Loss = 37.8875\n",
      "Loss = 34.9712\n",
      "Loss = 36.5606\n",
      "Loss = 21.0636\n",
      "Loss = 20.7871\n",
      "Loss = 34.2786\n",
      "Step #30 A = [[ 0.95374489]]b = [[ 0.65333855]]\n",
      "Loss = 19.9212\n",
      "Loss = 20.0837\n",
      "Loss = 25.3316\n",
      "Loss = 37.051\n",
      "Loss = 21.206\n",
      "Loss = 33.3397\n",
      "Loss = 41.446\n",
      "Loss = 25.4135\n",
      "Loss = 27.0875\n",
      "Loss = 22.2108\n",
      "Step #40 A = [[ 0.96602225]]b = [[ 0.65441167]]\n",
      "Loss = 31.248\n",
      "Loss = 21.1974\n",
      "Loss = 20.7192\n",
      "Loss = 27.4088\n",
      "Loss = 20.461\n",
      "Loss = 43.2195\n",
      "Loss = 30.0319\n",
      "Loss = 22.9107\n",
      "Loss = 36.78\n",
      "Loss = 22.4427\n",
      "Step #50 A = [[ 0.97726327]]b = [[ 0.65555334]]\n",
      "Loss = 18.8058\n",
      "Loss = 25.3944\n",
      "Loss = 29.8909\n",
      "Loss = 23.4191\n",
      "Loss = 24.2016\n",
      "Loss = 21.1826\n",
      "Loss = 41.239\n",
      "Loss = 31.5594\n",
      "Loss = 33.8921\n",
      "Loss = 24.504\n",
      "Step #60 A = [[ 0.96950024]]b = [[ 0.65629423]]\n",
      "Loss = 25.6948\n",
      "Loss = 29.9453\n",
      "Loss = 30.3957\n",
      "Loss = 24.339\n",
      "Loss = 17.6597\n",
      "Loss = 44.0425\n",
      "Loss = 35.5235\n",
      "Loss = 29.7064\n",
      "Loss = 32.8235\n",
      "Loss = 25.7419\n",
      "Step #70 A = [[ 0.98336738]]b = [[ 0.65800577]]\n",
      "Loss = 22.0047\n",
      "Loss = 27.5024\n",
      "Loss = 21.7772\n",
      "Loss = 29.4831\n",
      "Loss = 39.1273\n",
      "Loss = 14.7705\n",
      "Loss = 33.1289\n",
      "Loss = 18.1921\n",
      "Loss = 31.9841\n",
      "Loss = 30.9013\n",
      "Step #80 A = [[ 0.99822485]]b = [[ 0.65961957]]\n",
      "Loss = 23.9081\n",
      "Loss = 28.5157\n",
      "Loss = 41.3471\n",
      "Loss = 29.7477\n",
      "Loss = 30.1642\n",
      "Loss = 41.6593\n",
      "Loss = 31.4491\n",
      "Loss = 19.9899\n",
      "Loss = 22.9301\n",
      "Loss = 36.7036\n",
      "Step #90 A = [[ 0.95516402]]b = [[ 0.65950644]]\n",
      "Loss = 38.0985\n",
      "Loss = 35.0708\n",
      "Loss = 19.011\n",
      "Loss = 20.5886\n",
      "Loss = 45.4554\n",
      "Loss = 38.854\n",
      "Loss = 29.1397\n",
      "Loss = 31.9689\n",
      "Loss = 29.3506\n",
      "Loss = 26.9874\n",
      "Step #100 A = [[ 0.97629154]]b = [[ 0.66118729]]\n",
      "Loss = 23.5586\n"
     ]
    }
   ],
   "source": [
    "loss_vec = []\n",
    "for i in range(100):\n",
    "    rand_index = np.random.choice(len(x_vals), size=batch_size)\n",
    "    rand_x = np.transpose([[x_vals[i] for i in rand_index]])\n",
    "    rand_y = np.transpose([[y_vals[i] for i in rand_index]])\n",
    "    sess.run(train_step, feed_dict={x_data: rand_x, y_target: rand_y})\n",
    "    temp_loss = sess.run(loss, feed_dict={x_data: rand_x, y_target: rand_y})\n",
    "    loss_vec.append(temp_loss)\n",
    "    if (i+1)%10 == 0:\n",
    "        print('Step #' + str(i+1) + ' A = ' + str(sess.run(a)) \n",
    "              + 'b = ' + str(sess.run(b)))\n",
    "    print('Loss = ''' + str(temp_loss))"
   ]
  },
  {
   "cell_type": "code",
   "execution_count": 44,
   "metadata": {
    "collapsed": false
   },
   "outputs": [
    {
     "data": {
      "image/png": "[encoded data removed]",
      "text/plain": [
       "<matplotlib.figure.Figure at 0x7fd380974c50>"
      ]
     },
     "metadata": {},
     "output_type": "display_data"
    }
   ],
   "source": [
    "plt.plot(loss_vec)\n",
    "plt.show()"
   ]
  },
  {
   "cell_type": "code",
   "execution_count": null,
   "metadata": {
    "collapsed": true
   },
   "outputs": [],
   "source": []
  }
 ],
 "metadata": {
  "kernelspec": {
   "display_name": "neuralnets",
   "language": "python",
   "name": "neuralnets"
  },
  "language_info": {
   "codemirror_mode": {
    "name": "ipython",
    "version": 3
   },
   "file_extension": ".py",
   "mimetype": "text/x-python",
   "name": "python",
   "nbconvert_exporter": "python",
   "pygments_lexer": "ipython3",
   "version": "3.5.2"
  }
 },
 "nbformat": 4,
 "nbformat_minor": 2
}
