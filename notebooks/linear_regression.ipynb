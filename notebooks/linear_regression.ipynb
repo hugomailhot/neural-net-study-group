{
 "cells": [
  {
   "cell_type": "code",
   "execution_count": 16,
   "metadata": {
    "collapsed": false
   },
   "outputs": [],
   "source": [
    "import tensorflow as tf\n",
    "import pickle\n",
    "import matplotlib.pyplot as plt\n",
    "import numpy as np"
   ]
  },
  {
   "cell_type": "markdown",
   "metadata": {},
   "source": [
    "## The goal\n",
    "\n",
    "Fitting a line that best approximate a set of points in 2 dimensions."
   ]
  },
  {
   "cell_type": "markdown",
   "metadata": {},
   "source": [
    "## The dataset\n",
    "\n",
    "We are going to use the _scatter.pickle_ dataset in the datasets folder. Make sure to use Python 3 to load this one, as I used a pickling protocol specific to Python 3."
   ]
  },
  {
   "cell_type": "code",
   "execution_count": 18,
   "metadata": {
    "collapsed": true
   },
   "outputs": [],
   "source": [
    "with open('../datasets/scatter.pickle', 'rb') as f:\n",
    "    data = pickle.load(f)\n",
    "    x_vals = [x for x in data[0]]\n",
    "    y_vals = [x for x in data[1]]"
   ]
  },
  {
   "cell_type": "code",
   "execution_count": 20,
   "metadata": {
    "collapsed": false
   },
   "outputs": [
    {
     "data": {
      "image/png": "[encoded data removed]",
      "text/plain": [
       "<matplotlib.figure.Figure at 0x7fd380949048>"
      ]
     },
     "metadata": {},
     "output_type": "display_data"
    }
   ],
   "source": [
    "plt.scatter(x_vals, y_vals)\n",
    "plt.show()"
   ]
  },
  {
   "cell_type": "code",
   "execution_count": 21,
   "metadata": {
    "collapsed": false
   },
   "outputs": [
    {
     "data": {
      "text/plain": [
       "1000"
      ]
     },
     "execution_count": 21,
     "metadata": {},
     "output_type": "execute_result"
    }
   ],
   "source": [
    "len(X)"
   ]
  },
  {
   "cell_type": "markdown",
   "metadata": {},
   "source": [
    "## Defining the computational graph\n",
    "\n",
    "The way we work in Tensorflow is by first defining the variables and placeholders in our computational graph, and then specifying the way they interact with each other (for example, this node is added with this one, this one goes through a relu, etc)."
   ]
  },
  {
   "cell_type": "markdown",
   "metadata": {},
   "source": [
    "### Variables and placeholders\n",
    "\n",
    "Our simple linear regression model is going to be y = ax+b. So we need to define one placeholder node for each of x and y, and one variable node for each of a and b. The `init` object is used later to initialize all global variables at once, before the training starts. In our case, variables a and b will be initialized by sampling them from a normal distribution.\n",
    "\n",
    "TODO: Better explain the shape parameter"
   ]
  },
  {
   "cell_type": "code",
   "execution_count": 22,
   "metadata": {
    "collapsed": false
   },
   "outputs": [],
   "source": [
    "x_data = tf.placeholder(shape=[None, 1], dtype=tf.float32)\n",
    "y_target = tf.placeholder(shape=[None, 1], dtype=tf.float32)\n",
    "a = tf.Variable(tf.random_normal(shape=[1,1]))\n",
    "b = tf.Variable(tf.random_normal(shape=[1,1]))\n",
    "init = tf.global_variables_initializer()"
   ]
  },
  {
   "cell_type": "markdown",
   "metadata": {},
   "source": [
    "## Shape of the computational graph\n",
    "\n",
    "Here we define how each node interacts with each other. Following our y = ax+b formula, we get:"
   ]
  },
  {
   "cell_type": "code",
   "execution_count": 23,
   "metadata": {
    "collapsed": false
   },
   "outputs": [],
   "source": [
    "model_output = tf.add(tf.matmul(x_data, a), b)"
   ]
  },
  {
   "cell_type": "markdown",
   "metadata": {},
   "source": [
    "## Optimization setup\n",
    "\n",
    "### Loss function\n",
    "\n",
    "We use the mean squared error as our loss function, so we take the difference between the predicted and true values (`y_model - model_output`). This is a vectorized operation, and we obtain a vector of differences, which we reduce to a single mean using `tf.reduce_mean`.\n",
    "\n",
    "\n",
    "### Gradient descent parameters\n",
    "\n",
    "We set need a learning rate and batch size to do batch gradient descent. We then instanciate an optimizer, and call `train_step` the action of minimizing loss using that optimizer."
   ]
  },
  {
   "cell_type": "code",
   "execution_count": 24,
   "metadata": {
    "collapsed": true
   },
   "outputs": [],
   "source": [
    "loss = tf.reduce_mean(tf.square(y_target - model_output))\n",
    "learning_rate = 0.05\n",
    "batch_size = 25\n",
    "my_opt = tf.train.GradientDescentOptimizer(learning_rate)\n",
    "train_step = my_opt.minimize(loss)"
   ]
  },
  {
   "cell_type": "markdown",
   "metadata": {},
   "source": [
    "## Training\n",
    "\n",
    "We start by creating a session and initializing the variables in the computational graph."
   ]
  },
  {
   "cell_type": "code",
   "execution_count": 37,
   "metadata": {
    "collapsed": false
   },
   "outputs": [],
   "source": [
    "sess = tf.Session()\n",
    "sess.run(init)"
   ]
  },
  {
   "cell_type": "markdown",
   "metadata": {},
   "source": [
    "Here we do 100 iterations of randomly sampling `batch_size` points in our dataset and making one gradient descent step to minimize mean squared loss over that batch. \n",
    "\n",
    "TODO: explain why we transpose\n",
    "\n",
    "We tell the `Session` to run the `train_step`, which is the gradient descent optimization step.\n",
    "\n",
    "We also keep track of our loss at every 10th iteration so we can graph it later. Note that the loss is computed over the batch of samples, and not the whole dataset."
   ]
  },
  {
   "cell_type": "code",
   "execution_count": 38,
   "metadata": {
    "collapsed": false
   },
   "outputs": [
    {
     "name": "stdout",
     "output_type": "stream",
     "text": [
      "Loss = 5.04964e+06\n",
      "Loss = 4.61358e+10\n",
      "Loss = 2.24262e+14\n",
      "Loss = 7.5932e+17\n",
      "Loss = 2.86934e+21\n",
      "Loss = 1.52372e+25\n",
      "Loss = 6.01972e+28\n",
      "Loss = 5.01506e+32\n",
      "Loss = 3.25186e+36\n",
      "Step #10 A = [[ -4.66226740e+18]]b = [[ -1.54907616e+17]]\n",
      "Loss = inf\n",
      "Loss = inf\n",
      "Loss = inf\n",
      "Loss = inf\n",
      "Loss = inf\n",
      "Loss = inf\n",
      "Loss = inf\n",
      "Loss = inf\n",
      "Loss = inf\n",
      "Loss = inf\n",
      "Step #20 A = [[ -9.46354414e+36]]b = [[ -3.36465487e+35]]\n",
      "Loss = inf\n",
      "Loss = inf\n",
      "Loss = nan\n",
      "Loss = nan\n",
      "Loss = nan\n",
      "Loss = nan\n",
      "Loss = nan\n",
      "Loss = nan\n",
      "Loss = nan\n",
      "Loss = nan\n",
      "Step #30 A = [[ nan]]b = [[ nan]]\n",
      "Loss = nan\n",
      "Loss = nan\n",
      "Loss = nan\n",
      "Loss = nan\n",
      "Loss = nan\n",
      "Loss = nan\n",
      "Loss = nan\n",
      "Loss = nan\n",
      "Loss = nan\n",
      "Loss = nan\n",
      "Step #40 A = [[ nan]]b = [[ nan]]\n",
      "Loss = nan\n",
      "Loss = nan\n",
      "Loss = nan\n",
      "Loss = nan\n",
      "Loss = nan\n",
      "Loss = nan\n",
      "Loss = nan\n",
      "Loss = nan\n",
      "Loss = nan\n",
      "Loss = nan\n",
      "Step #50 A = [[ nan]]b = [[ nan]]\n",
      "Loss = nan\n",
      "Loss = nan\n",
      "Loss = nan\n",
      "Loss = nan\n",
      "Loss = nan\n",
      "Loss = nan\n",
      "Loss = nan\n",
      "Loss = nan\n",
      "Loss = nan\n",
      "Loss = nan\n",
      "Step #60 A = [[ nan]]b = [[ nan]]\n",
      "Loss = nan\n",
      "Loss = nan\n",
      "Loss = nan\n",
      "Loss = nan\n",
      "Loss = nan\n",
      "Loss = nan\n",
      "Loss = nan\n",
      "Loss = nan\n",
      "Loss = nan\n",
      "Loss = nan\n",
      "Step #70 A = [[ nan]]b = [[ nan]]\n",
      "Loss = nan\n",
      "Loss = nan\n",
      "Loss = nan\n",
      "Loss = nan\n",
      "Loss = nan\n",
      "Loss = nan\n",
      "Loss = nan\n",
      "Loss = nan\n",
      "Loss = nan\n",
      "Loss = nan\n",
      "Step #80 A = [[ nan]]b = [[ nan]]\n",
      "Loss = nan\n",
      "Loss = nan\n",
      "Loss = nan\n",
      "Loss = nan\n",
      "Loss = nan\n",
      "Loss = nan\n",
      "Loss = nan\n",
      "Loss = nan\n",
      "Loss = nan\n",
      "Loss = nan\n",
      "Step #90 A = [[ nan]]b = [[ nan]]\n",
      "Loss = nan\n",
      "Loss = nan\n",
      "Loss = nan\n",
      "Loss = nan\n",
      "Loss = nan\n",
      "Loss = nan\n",
      "Loss = nan\n",
      "Loss = nan\n",
      "Loss = nan\n",
      "Loss = nan\n",
      "Step #100 A = [[ nan]]b = [[ nan]]\n",
      "Loss = nan\n"
     ]
    }
   ],
   "source": [
    "loss_vec = []\n",
    "for i in range(100):\n",
    "    rand_index = np.random.choice(len(x_vals), size=batch_size)\n",
    "    rand_x = np.transpose([[x_vals[i] for i in rand_index]])\n",
    "    rand_y = np.transpose([[y_vals[i] for i in rand_index]])\n",
    "    sess.run(train_step, feed_dict={x_data: rand_x, y_target: rand_y})\n",
    "    temp_loss = sess.run(loss, feed_dict={x_data: rand_x, y_target: rand_y})\n",
    "    loss_vec.append(temp_loss)\n",
    "    if (i+1)%10 == 0:\n",
    "        print('Step #' + str(i+1) + ' A = ' + str(sess.run(a)) \n",
    "              + 'b = ' + str(sess.run(b)))\n",
    "    print('Loss = ''' + str(temp_loss))"
   ]
  },
  {
   "cell_type": "code",
   "execution_count": null,
   "metadata": {
    "collapsed": true
   },
   "outputs": [],
   "source": []
  }
 ],
 "metadata": {
  "kernelspec": {
   "display_name": "neuralnets",
   "language": "python",
   "name": "neuralnets"
  },
  "language_info": {
   "codemirror_mode": {
    "name": "ipython",
    "version": 3
   },
   "file_extension": ".py",
   "mimetype": "text/x-python",
   "name": "python",
   "nbconvert_exporter": "python",
   "pygments_lexer": "ipython3",
   "version": "3.5.2"
  }
 },
 "nbformat": 4,
 "nbformat_minor": 2
}
